{
 "cells": [
  {
   "cell_type": "markdown",
   "metadata": {},
   "source": [
    "Authored by : Asif Hanif <br>\n",
    "asif.hanif@outlook.com"
   ]
  },
  {
   "cell_type": "code",
   "execution_count": 2,
   "metadata": {},
   "outputs": [],
   "source": [
    "import pandas as pd\n",
    "import numpy as np\n",
    "from IPython.core.display import display, HTML"
   ]
  },
  {
   "cell_type": "markdown",
   "metadata": {},
   "source": [
    "### Read SpreadSheet"
   ]
  },
  {
   "cell_type": "code",
   "execution_count": 3,
   "metadata": {},
   "outputs": [],
   "source": [
    "sheet = pd.read_excel(\"GradeSpreadSheet.xlsx\", sheet_name=\"HW-1\", header=0)\n",
    "\n",
    "sheet.fillna('', inplace=True)  # fill empty cells with white-space"
   ]
  },
  {
   "cell_type": "code",
   "execution_count": 4,
   "metadata": {},
   "outputs": [
    {
     "data": {
      "text/html": [
       "<div>\n",
       "<style scoped>\n",
       "    .dataframe tbody tr th:only-of-type {\n",
       "        vertical-align: middle;\n",
       "    }\n",
       "\n",
       "    .dataframe tbody tr th {\n",
       "        vertical-align: top;\n",
       "    }\n",
       "\n",
       "    .dataframe thead th {\n",
       "        text-align: right;\n",
       "    }\n",
       "</style>\n",
       "<table border=\"1\" class=\"dataframe\">\n",
       "  <thead>\n",
       "    <tr style=\"text-align: right;\">\n",
       "      <th></th>\n",
       "      <th>Unnamed: 0</th>\n",
       "      <th>Unnamed: 1</th>\n",
       "      <th>Unnamed: 2</th>\n",
       "      <th>Unnamed: 3</th>\n",
       "      <th>Unnamed: 4</th>\n",
       "      <th>Unnamed: 5</th>\n",
       "      <th>Unnamed: 6</th>\n",
       "      <th>Unnamed: 7</th>\n",
       "      <th>Unnamed: 8</th>\n",
       "      <th>Unnamed: 9</th>\n",
       "      <th>Unnamed: 10</th>\n",
       "      <th>Unnamed: 11</th>\n",
       "      <th>Unnamed: 12</th>\n",
       "      <th>Unnamed: 13</th>\n",
       "      <th>Unnamed: 14</th>\n",
       "      <th>Unnamed: 15</th>\n",
       "      <th>Unnamed: 16</th>\n",
       "      <th>Unnamed: 17</th>\n",
       "    </tr>\n",
       "  </thead>\n",
       "  <tbody>\n",
       "    <tr>\n",
       "      <th>0</th>\n",
       "      <td>Homework-1</td>\n",
       "      <td></td>\n",
       "      <td></td>\n",
       "      <td></td>\n",
       "      <td></td>\n",
       "      <td>Late \\n(Minutes)</td>\n",
       "      <td>Question</td>\n",
       "      <td>Q1</td>\n",
       "      <td>Comments</td>\n",
       "      <td>Q2</td>\n",
       "      <td>Comments</td>\n",
       "      <td>Q3</td>\n",
       "      <td>Comments</td>\n",
       "      <td>Q4</td>\n",
       "      <td>Comments</td>\n",
       "      <td>Q5</td>\n",
       "      <td>Comments</td>\n",
       "      <td>HW-1</td>\n",
       "    </tr>\n",
       "    <tr>\n",
       "      <th>1</th>\n",
       "      <td>Sr. #</td>\n",
       "      <td>Name</td>\n",
       "      <td>Roll Number</td>\n",
       "      <td></td>\n",
       "      <td>Email</td>\n",
       "      <td></td>\n",
       "      <td>Total Marks</td>\n",
       "      <td>10</td>\n",
       "      <td></td>\n",
       "      <td>10</td>\n",
       "      <td></td>\n",
       "      <td>5</td>\n",
       "      <td></td>\n",
       "      <td>0</td>\n",
       "      <td></td>\n",
       "      <td>25</td>\n",
       "      <td></td>\n",
       "      <td>50</td>\n",
       "    </tr>\n",
       "    <tr>\n",
       "      <th>2</th>\n",
       "      <td>1</td>\n",
       "      <td>Saja</td>\n",
       "      <td>MSCS</td>\n",
       "      <td>18001</td>\n",
       "      <td>some_email@domain.com</td>\n",
       "      <td>0</td>\n",
       "      <td>Obtained Marks</td>\n",
       "      <td></td>\n",
       "      <td></td>\n",
       "      <td></td>\n",
       "      <td>Rubrics: \\nPart. a (2)\\nPart. b (3)\\npart. c (...</td>\n",
       "      <td></td>\n",
       "      <td>Rubrics: \\nGradient w,r,t W (3)\\nGradient w.r....</td>\n",
       "      <td></td>\n",
       "      <td>This question has been excluded from marking.\\...</td>\n",
       "      <td>0</td>\n",
       "      <td>Rubrics: \\nImplementation of Forward (0/5)\\nDe...</td>\n",
       "      <td>0</td>\n",
       "    </tr>\n",
       "    <tr>\n",
       "      <th>3</th>\n",
       "      <td>2</td>\n",
       "      <td>Maja</td>\n",
       "      <td>MSCS</td>\n",
       "      <td>18002</td>\n",
       "      <td>some_email@domain.com</td>\n",
       "      <td>0</td>\n",
       "      <td>Obtained Marks</td>\n",
       "      <td>10</td>\n",
       "      <td></td>\n",
       "      <td>9</td>\n",
       "      <td>Rubrics: \\nPart. a (2/2)\\nPart. b (3/3)\\npart....</td>\n",
       "      <td>5</td>\n",
       "      <td>Rubrics: \\nGradient w,r,t W (3/3)\\nGradient w....</td>\n",
       "      <td></td>\n",
       "      <td>This question has been excluded from marking.\\...</td>\n",
       "      <td>7</td>\n",
       "      <td>Rubrics: \\nImplementation of Forward (5/5)\\nDe...</td>\n",
       "      <td>31</td>\n",
       "    </tr>\n",
       "    <tr>\n",
       "      <th>4</th>\n",
       "      <td>3</td>\n",
       "      <td>Basanty</td>\n",
       "      <td>MSCS</td>\n",
       "      <td>18003</td>\n",
       "      <td>some_email@domain.com</td>\n",
       "      <td>0</td>\n",
       "      <td>Obtained Marks</td>\n",
       "      <td>0</td>\n",
       "      <td></td>\n",
       "      <td>0</td>\n",
       "      <td></td>\n",
       "      <td>0</td>\n",
       "      <td>Rubrics: \\nGradient w,r,t W (0/3)\\nGradient w....</td>\n",
       "      <td>0</td>\n",
       "      <td></td>\n",
       "      <td>0</td>\n",
       "      <td></td>\n",
       "      <td>0</td>\n",
       "    </tr>\n",
       "  </tbody>\n",
       "</table>\n",
       "</div>"
      ],
      "text/plain": [
       "   Unnamed: 0 Unnamed: 1   Unnamed: 2 Unnamed: 3             Unnamed: 4  \\\n",
       "0  Homework-1                                                             \n",
       "1       Sr. #       Name  Roll Number                             Email   \n",
       "2           1       Saja         MSCS      18001  some_email@domain.com   \n",
       "3           2       Maja         MSCS      18002  some_email@domain.com   \n",
       "4           3    Basanty         MSCS      18003  some_email@domain.com   \n",
       "\n",
       "         Unnamed: 5      Unnamed: 6 Unnamed: 7 Unnamed: 8 Unnamed: 9  \\\n",
       "0  Late \\n(Minutes)        Question         Q1   Comments         Q2   \n",
       "1                       Total Marks         10                    10   \n",
       "2                 0  Obtained Marks                                    \n",
       "3                 0  Obtained Marks         10                     9   \n",
       "4                 0  Obtained Marks          0                     0   \n",
       "\n",
       "                                         Unnamed: 10 Unnamed: 11  \\\n",
       "0                                           Comments          Q3   \n",
       "1                                                              5   \n",
       "2  Rubrics: \\nPart. a (2)\\nPart. b (3)\\npart. c (...               \n",
       "3  Rubrics: \\nPart. a (2/2)\\nPart. b (3/3)\\npart....           5   \n",
       "4                                                              0   \n",
       "\n",
       "                                         Unnamed: 12 Unnamed: 13  \\\n",
       "0                                           Comments          Q4   \n",
       "1                                                              0   \n",
       "2  Rubrics: \\nGradient w,r,t W (3)\\nGradient w.r....               \n",
       "3  Rubrics: \\nGradient w,r,t W (3/3)\\nGradient w....               \n",
       "4  Rubrics: \\nGradient w,r,t W (0/3)\\nGradient w....           0   \n",
       "\n",
       "                                         Unnamed: 14 Unnamed: 15  \\\n",
       "0                                           Comments          Q5   \n",
       "1                                                             25   \n",
       "2  This question has been excluded from marking.\\...           0   \n",
       "3  This question has been excluded from marking.\\...           7   \n",
       "4                                                              0   \n",
       "\n",
       "                                         Unnamed: 16 Unnamed: 17  \n",
       "0                                           Comments        HW-1  \n",
       "1                                                             50  \n",
       "2  Rubrics: \\nImplementation of Forward (0/5)\\nDe...           0  \n",
       "3  Rubrics: \\nImplementation of Forward (5/5)\\nDe...          31  \n",
       "4                                                              0  "
      ]
     },
     "execution_count": 4,
     "metadata": {},
     "output_type": "execute_result"
    }
   ],
   "source": [
    "sheet"
   ]
  },
  {
   "cell_type": "markdown",
   "metadata": {},
   "source": [
    "### Select Top Rows"
   ]
  },
  {
   "cell_type": "code",
   "execution_count": 5,
   "metadata": {},
   "outputs": [
    {
     "data": {
      "text/html": [
       "<div>\n",
       "<style scoped>\n",
       "    .dataframe tbody tr th:only-of-type {\n",
       "        vertical-align: middle;\n",
       "    }\n",
       "\n",
       "    .dataframe tbody tr th {\n",
       "        vertical-align: top;\n",
       "    }\n",
       "\n",
       "    .dataframe thead th {\n",
       "        text-align: right;\n",
       "    }\n",
       "</style>\n",
       "<table border=\"1\" class=\"dataframe\">\n",
       "  <thead>\n",
       "    <tr style=\"text-align: right;\">\n",
       "      <th></th>\n",
       "      <th>Unnamed: 0</th>\n",
       "      <th>Unnamed: 1</th>\n",
       "      <th>Unnamed: 2</th>\n",
       "      <th>Unnamed: 3</th>\n",
       "      <th>Unnamed: 4</th>\n",
       "      <th>Unnamed: 5</th>\n",
       "      <th>Unnamed: 6</th>\n",
       "      <th>Unnamed: 7</th>\n",
       "      <th>Unnamed: 8</th>\n",
       "      <th>Unnamed: 9</th>\n",
       "      <th>Unnamed: 10</th>\n",
       "      <th>Unnamed: 11</th>\n",
       "      <th>Unnamed: 12</th>\n",
       "      <th>Unnamed: 13</th>\n",
       "      <th>Unnamed: 14</th>\n",
       "      <th>Unnamed: 15</th>\n",
       "      <th>Unnamed: 16</th>\n",
       "      <th>Unnamed: 17</th>\n",
       "    </tr>\n",
       "  </thead>\n",
       "  <tbody>\n",
       "    <tr>\n",
       "      <th>0</th>\n",
       "      <td>Homework-1</td>\n",
       "      <td></td>\n",
       "      <td></td>\n",
       "      <td></td>\n",
       "      <td></td>\n",
       "      <td>Late \\n(Minutes)</td>\n",
       "      <td>Question</td>\n",
       "      <td>Q1</td>\n",
       "      <td>Comments</td>\n",
       "      <td>Q2</td>\n",
       "      <td>Comments</td>\n",
       "      <td>Q3</td>\n",
       "      <td>Comments</td>\n",
       "      <td>Q4</td>\n",
       "      <td>Comments</td>\n",
       "      <td>Q5</td>\n",
       "      <td>Comments</td>\n",
       "      <td>HW-1</td>\n",
       "    </tr>\n",
       "    <tr>\n",
       "      <th>1</th>\n",
       "      <td>Sr. #</td>\n",
       "      <td>Name</td>\n",
       "      <td>Roll Number</td>\n",
       "      <td></td>\n",
       "      <td>Email</td>\n",
       "      <td></td>\n",
       "      <td>Total Marks</td>\n",
       "      <td>10</td>\n",
       "      <td></td>\n",
       "      <td>10</td>\n",
       "      <td></td>\n",
       "      <td>5</td>\n",
       "      <td></td>\n",
       "      <td>0</td>\n",
       "      <td></td>\n",
       "      <td>25</td>\n",
       "      <td></td>\n",
       "      <td>50</td>\n",
       "    </tr>\n",
       "  </tbody>\n",
       "</table>\n",
       "</div>"
      ],
      "text/plain": [
       "   Unnamed: 0 Unnamed: 1   Unnamed: 2 Unnamed: 3 Unnamed: 4        Unnamed: 5  \\\n",
       "0  Homework-1                                                Late \\n(Minutes)   \n",
       "1       Sr. #       Name  Roll Number                 Email                     \n",
       "\n",
       "    Unnamed: 6 Unnamed: 7 Unnamed: 8 Unnamed: 9 Unnamed: 10 Unnamed: 11  \\\n",
       "0     Question         Q1   Comments         Q2    Comments          Q3   \n",
       "1  Total Marks         10                    10                       5   \n",
       "\n",
       "  Unnamed: 12 Unnamed: 13 Unnamed: 14 Unnamed: 15 Unnamed: 16 Unnamed: 17  \n",
       "0    Comments          Q4    Comments          Q5    Comments        HW-1  \n",
       "1                       0                      25                      50  "
      ]
     },
     "execution_count": 5,
     "metadata": {},
     "output_type": "execute_result"
    }
   ],
   "source": [
    "selected_rows = sheet[0:2]  # row indices of selected sheet. Assuming first row in exel sheet is empty\n",
    "selected_rows"
   ]
  },
  {
   "cell_type": "markdown",
   "metadata": {},
   "source": [
    "### Select Columns"
   ]
  },
  {
   "cell_type": "code",
   "execution_count": 6,
   "metadata": {},
   "outputs": [],
   "source": [
    "selected_rows_cols = [row for row in selected_rows.values.tolist()]"
   ]
  },
  {
   "cell_type": "code",
   "execution_count": 7,
   "metadata": {},
   "outputs": [
    {
     "data": {
      "text/plain": [
       "[['Homework-1',\n",
       "  '',\n",
       "  '',\n",
       "  '',\n",
       "  '',\n",
       "  'Late \\n(Minutes)',\n",
       "  'Question',\n",
       "  'Q1',\n",
       "  'Comments',\n",
       "  'Q2',\n",
       "  'Comments',\n",
       "  'Q3',\n",
       "  'Comments',\n",
       "  'Q4',\n",
       "  'Comments',\n",
       "  'Q5',\n",
       "  'Comments',\n",
       "  'HW-1'],\n",
       " ['Sr. #',\n",
       "  'Name',\n",
       "  'Roll Number',\n",
       "  '',\n",
       "  'Email',\n",
       "  '',\n",
       "  'Total Marks',\n",
       "  10,\n",
       "  '',\n",
       "  10,\n",
       "  '',\n",
       "  5,\n",
       "  '',\n",
       "  0,\n",
       "  '',\n",
       "  25,\n",
       "  '',\n",
       "  50]]"
      ]
     },
     "execution_count": 7,
     "metadata": {},
     "output_type": "execute_result"
    }
   ],
   "source": [
    "selected_rows_cols"
   ]
  },
  {
   "cell_type": "code",
   "execution_count": 8,
   "metadata": {},
   "outputs": [
    {
     "data": {
      "text/plain": [
       "['Homework-1',\n",
       " '',\n",
       " '',\n",
       " '',\n",
       " '',\n",
       " 'Late \\n(Minutes)',\n",
       " 'Question',\n",
       " 'Q1',\n",
       " 'Comments',\n",
       " 'Q2',\n",
       " 'Comments',\n",
       " 'Q3',\n",
       " 'Comments',\n",
       " 'Q4',\n",
       " 'Comments',\n",
       " 'Q5',\n",
       " 'Comments',\n",
       " 'HW-1']"
      ]
     },
     "execution_count": 8,
     "metadata": {},
     "output_type": "execute_result"
    }
   ],
   "source": [
    "selected_rows_cols[0]"
   ]
  },
  {
   "cell_type": "code",
   "execution_count": 9,
   "metadata": {},
   "outputs": [
    {
     "data": {
      "text/plain": [
       "['Sr. #',\n",
       " 'Name',\n",
       " 'Roll Number',\n",
       " '',\n",
       " 'Email',\n",
       " '',\n",
       " 'Total Marks',\n",
       " 10,\n",
       " '',\n",
       " 10,\n",
       " '',\n",
       " 5,\n",
       " '',\n",
       " 0,\n",
       " '',\n",
       " 25,\n",
       " '',\n",
       " 50]"
      ]
     },
     "execution_count": 9,
     "metadata": {},
     "output_type": "execute_result"
    }
   ],
   "source": [
    "selected_rows_cols[1]"
   ]
  },
  {
   "cell_type": "code",
   "execution_count": 10,
   "metadata": {},
   "outputs": [],
   "source": [
    "total_cells = len(selected_rows_cols[0])  ## i.e. number of columns"
   ]
  },
  {
   "cell_type": "markdown",
   "metadata": {},
   "source": [
    "### Formating Header of Table"
   ]
  },
  {
   "cell_type": "markdown",
   "metadata": {},
   "source": [
    "#### First Row"
   ]
  },
  {
   "cell_type": "code",
   "execution_count": 11,
   "metadata": {},
   "outputs": [
    {
     "data": {
      "text/plain": [
       "['Homework-1',\n",
       " '',\n",
       " '',\n",
       " '',\n",
       " '',\n",
       " 'Late \\n(Minutes)',\n",
       " 'Question',\n",
       " 'Q1',\n",
       " 'Comments',\n",
       " 'Q2',\n",
       " 'Comments',\n",
       " 'Q3',\n",
       " 'Comments',\n",
       " 'Q4',\n",
       " 'Comments',\n",
       " 'Q5',\n",
       " 'Comments',\n",
       " 'HW-1']"
      ]
     },
     "execution_count": 11,
     "metadata": {},
     "output_type": "execute_result"
    }
   ],
   "source": [
    "# select 1st row\n",
    "selected_row = selected_rows_cols[0]\n",
    "selected_row"
   ]
  },
  {
   "cell_type": "markdown",
   "metadata": {},
   "source": [
    "#### HTML Code"
   ]
  },
  {
   "cell_type": "code",
   "execution_count": 12,
   "metadata": {},
   "outputs": [
    {
     "data": {
      "text/plain": [
       "'<tr><th colspan=\"5\">Homework-1</th><th rowspan=\"1\">Late \\n(Minutes)</th><th colspan=\"1\">Question</th><th colspan=\"1\">Q1</th><th rowspan=\"1\">Comments</th><th colspan=\"1\">Q2</th><th rowspan=\"1\">Comments</th><th colspan=\"1\">Q3</th><th rowspan=\"1\">Comments</th><th colspan=\"1\">Q4</th><th rowspan=\"1\">Comments</th><th colspan=\"1\">Q5</th><th rowspan=\"1\">Comments</th><th colspan=\"0\">HW-1</th></tr>'"
      ]
     },
     "execution_count": 12,
     "metadata": {},
     "output_type": "execute_result"
    }
   ],
   "source": [
    "# preparing HTML code for table row\n",
    "first_table_row = '<tr>'\n",
    "\n",
    "# total_cells is the number of cells in given row\n",
    "\n",
    "col_span = 0\n",
    "prev_non_empty_cell = None\n",
    "\n",
    "# Loop over cells in given row\n",
    "for cell_index in range(total_cells):\n",
    "\n",
    "    cell_value = selected_row[cell_index]\n",
    "\n",
    "\n",
    "    if not cell_value:    # if cell is empty\n",
    "        col_span += 1\n",
    "\n",
    "    else:                 # if cell is not empty\n",
    "        if prev_non_empty_cell is not None: \n",
    "            if (prev_non_empty_cell=='Comments') or (prev_non_empty_cell=='Late \\n(Minutes)') :\n",
    "                first_table_row += '<th rowspan=\"%s\">%s</th>' % ( 1 , prev_non_empty_cell)\n",
    "            else:\n",
    "                first_table_row += '<th colspan=\"%s\">%s</th>' % (col_span+1, prev_non_empty_cell)\n",
    "                col_span = 0\n",
    "\n",
    "        prev_non_empty_cell = cell_value\n",
    "\n",
    "\n",
    "\n",
    "\n",
    "if prev_non_empty_cell:\n",
    "    first_table_row += '<th colspan=\"%s\">%s</th>' % (col_span, prev_non_empty_cell)\n",
    "\n",
    "first_table_row += '</tr>' \n",
    "\n",
    "first_table_row"
   ]
  },
  {
   "cell_type": "code",
   "execution_count": 13,
   "metadata": {},
   "outputs": [
    {
     "data": {
      "text/html": [
       "<tr><th colspan=\"5\">Homework-1</th><th rowspan=\"1\">Late \n",
       "(Minutes)</th><th colspan=\"1\">Question</th><th colspan=\"1\">Q1</th><th rowspan=\"1\">Comments</th><th colspan=\"1\">Q2</th><th rowspan=\"1\">Comments</th><th colspan=\"1\">Q3</th><th rowspan=\"1\">Comments</th><th colspan=\"1\">Q4</th><th rowspan=\"1\">Comments</th><th colspan=\"1\">Q5</th><th rowspan=\"1\">Comments</th><th colspan=\"0\">HW-1</th></tr>"
      ],
      "text/plain": [
       "<IPython.core.display.HTML object>"
      ]
     },
     "metadata": {},
     "output_type": "display_data"
    }
   ],
   "source": [
    "display(HTML(first_table_row))"
   ]
  },
  {
   "cell_type": "markdown",
   "metadata": {},
   "source": [
    "#### Second Row"
   ]
  },
  {
   "cell_type": "code",
   "execution_count": 14,
   "metadata": {},
   "outputs": [
    {
     "data": {
      "text/plain": [
       "['Sr. #',\n",
       " 'Name',\n",
       " 'Roll Number',\n",
       " '',\n",
       " 'Email',\n",
       " '',\n",
       " 'Total Marks',\n",
       " 10,\n",
       " '',\n",
       " 10,\n",
       " '',\n",
       " 5,\n",
       " '',\n",
       " 0,\n",
       " '',\n",
       " 25,\n",
       " '',\n",
       " 50]"
      ]
     },
     "execution_count": 14,
     "metadata": {},
     "output_type": "execute_result"
    }
   ],
   "source": [
    "# select 2nd row\n",
    "selected_row = selected_rows_cols[1]\n",
    "selected_row"
   ]
  },
  {
   "cell_type": "markdown",
   "metadata": {},
   "source": [
    "#### HTML Code"
   ]
  },
  {
   "cell_type": "code",
   "execution_count": 15,
   "metadata": {},
   "outputs": [
    {
     "name": "stdout",
     "output_type": "stream",
     "text": [
      "0 Sr. #\n",
      "1 Name\n",
      "2 Roll Number\n",
      "3 \n",
      "4 Email\n",
      "5 \n",
      "6 Total Marks\n",
      "7 10\n",
      "8 \n",
      "9 10\n",
      "10 \n",
      "11 5\n",
      "12 \n",
      "13 0\n",
      "14 \n",
      "15 25\n",
      "16 \n",
      "17 50\n"
     ]
    },
    {
     "data": {
      "text/plain": [
       "'<tr><th colspan=\"1\">Sr. #</th><th colspan=\"1\">Name</th><th colspan=\"2\">Roll Number</th><th colspan=\"1\">Email</th><th colspan=\"1\"></th><th colspan=\"1\">Total Marks</th><th colspan=\"1\">10</th><th colspan=\"1\"></th><th colspan=\"1\">10</th><th colspan=\"1\"></th><th colspan=\"1\">5</th><th colspan=\"1\"></th><th colspan=\"1\">0</th><th colspan=\"1\"></th><th colspan=\"1\">25</th><th colspan=\"1\"></th><th colspan=\"1\">50</th></tr>'"
      ]
     },
     "execution_count": 15,
     "metadata": {},
     "output_type": "execute_result"
    }
   ],
   "source": [
    "# preparing HTML code for table row\n",
    "second_table_row = '<tr>'\n",
    "\n",
    "# total_cells is the number of cells in given row\n",
    "\n",
    "\n",
    "prev_non_empty_cell = None\n",
    "\n",
    "# Loop over cells in given row\n",
    "for cell_index in range(total_cells):\n",
    "\n",
    "    cell_value = selected_row[cell_index]\n",
    "    print(cell_index, cell_value)    \n",
    "\n",
    "    if (cell_index<=1) :\n",
    "        second_table_row += '<th colspan=\"%s\">%s</th>' % ( 1 , cell_value)\n",
    "\n",
    "    elif cell_value=='Roll Number' :\n",
    "        second_table_row += '<th colspan=\"%s\">%s</th>' % ( 2 , cell_value)\n",
    "\n",
    "    elif cell_value=='Email' :\n",
    "        second_table_row += '<th colspan=\"%s\">%s</th>' % ( 1 , cell_value)\n",
    "\n",
    "\n",
    "    elif (cell_index>4) :\n",
    "        second_table_row += '<th colspan=\"%s\">%s</th>' % ( 1 , cell_value)\n",
    "    \n",
    "  \n",
    "\n",
    "\n",
    "second_table_row += '</tr>' \n",
    "\n",
    "second_table_row"
   ]
  },
  {
   "cell_type": "code",
   "execution_count": 16,
   "metadata": {},
   "outputs": [
    {
     "data": {
      "text/html": [
       "<tr><th colspan=\"1\">Sr. #</th><th colspan=\"1\">Name</th><th colspan=\"2\">Roll Number</th><th colspan=\"1\">Email</th><th colspan=\"1\"></th><th colspan=\"1\">Total Marks</th><th colspan=\"1\">10</th><th colspan=\"1\"></th><th colspan=\"1\">10</th><th colspan=\"1\"></th><th colspan=\"1\">5</th><th colspan=\"1\"></th><th colspan=\"1\">0</th><th colspan=\"1\"></th><th colspan=\"1\">25</th><th colspan=\"1\"></th><th colspan=\"1\">50</th></tr>"
      ],
      "text/plain": [
       "<IPython.core.display.HTML object>"
      ]
     },
     "metadata": {},
     "output_type": "display_data"
    }
   ],
   "source": [
    "display(HTML(second_table_row))"
   ]
  },
  {
   "cell_type": "code",
   "execution_count": 17,
   "metadata": {},
   "outputs": [
    {
     "data": {
      "text/plain": [
       "'<tr><th colspan=\"5\">Homework-1</th><th rowspan=\"1\">Late \\n(Minutes)</th><th colspan=\"1\">Question</th><th colspan=\"1\">Q1</th><th rowspan=\"1\">Comments</th><th colspan=\"1\">Q2</th><th rowspan=\"1\">Comments</th><th colspan=\"1\">Q3</th><th rowspan=\"1\">Comments</th><th colspan=\"1\">Q4</th><th rowspan=\"1\">Comments</th><th colspan=\"1\">Q5</th><th rowspan=\"1\">Comments</th><th colspan=\"0\">HW-1</th></tr><tr><th colspan=\"1\">Sr. #</th><th colspan=\"1\">Name</th><th colspan=\"2\">Roll Number</th><th colspan=\"1\">Email</th><th colspan=\"1\"></th><th colspan=\"1\">Total Marks</th><th colspan=\"1\">10</th><th colspan=\"1\"></th><th colspan=\"1\">10</th><th colspan=\"1\"></th><th colspan=\"1\">5</th><th colspan=\"1\"></th><th colspan=\"1\">0</th><th colspan=\"1\"></th><th colspan=\"1\">25</th><th colspan=\"1\"></th><th colspan=\"1\">50</th></tr>'"
      ]
     },
     "execution_count": 17,
     "metadata": {},
     "output_type": "execute_result"
    }
   ],
   "source": [
    "table_header = first_table_row+second_table_row\n",
    "table_header"
   ]
  },
  {
   "cell_type": "code",
   "execution_count": 18,
   "metadata": {},
   "outputs": [
    {
     "data": {
      "text/html": [
       "<tr><th colspan=\"5\">Homework-1</th><th rowspan=\"1\">Late \n",
       "(Minutes)</th><th colspan=\"1\">Question</th><th colspan=\"1\">Q1</th><th rowspan=\"1\">Comments</th><th colspan=\"1\">Q2</th><th rowspan=\"1\">Comments</th><th colspan=\"1\">Q3</th><th rowspan=\"1\">Comments</th><th colspan=\"1\">Q4</th><th rowspan=\"1\">Comments</th><th colspan=\"1\">Q5</th><th rowspan=\"1\">Comments</th><th colspan=\"0\">HW-1</th></tr><tr><th colspan=\"1\">Sr. #</th><th colspan=\"1\">Name</th><th colspan=\"2\">Roll Number</th><th colspan=\"1\">Email</th><th colspan=\"1\"></th><th colspan=\"1\">Total Marks</th><th colspan=\"1\">10</th><th colspan=\"1\"></th><th colspan=\"1\">10</th><th colspan=\"1\"></th><th colspan=\"1\">5</th><th colspan=\"1\"></th><th colspan=\"1\">0</th><th colspan=\"1\"></th><th colspan=\"1\">25</th><th colspan=\"1\"></th><th colspan=\"1\">50</th></tr>"
      ],
      "text/plain": [
       "<IPython.core.display.HTML object>"
      ]
     },
     "metadata": {},
     "output_type": "display_data"
    }
   ],
   "source": [
    "display(HTML(table_header))"
   ]
  },
  {
   "cell_type": "code",
   "execution_count": null,
   "metadata": {},
   "outputs": [],
   "source": []
  },
  {
   "cell_type": "markdown",
   "metadata": {},
   "source": [
    "### Getting Details of Each Student"
   ]
  },
  {
   "cell_type": "code",
   "execution_count": 19,
   "metadata": {},
   "outputs": [],
   "source": [
    "# loop through all student rows, each row contains student's details\n",
    "records = []\n",
    "\n",
    "for row in sheet[2:5].values.tolist():\n",
    "    \n",
    "    row[3] = int(row[3])  # changing roll number type to int\n",
    "    records.append(row[0:total_cells])\n"
   ]
  },
  {
   "cell_type": "code",
   "execution_count": 20,
   "metadata": {},
   "outputs": [
    {
     "data": {
      "text/plain": [
       "[1,\n",
       " 'Saja',\n",
       " 'MSCS',\n",
       " 18001,\n",
       " 'some_email@domain.com',\n",
       " 0,\n",
       " 'Obtained Marks',\n",
       " '',\n",
       " '',\n",
       " '',\n",
       " 'Rubrics: \\nPart. a (2)\\nPart. b (3)\\npart. c (2)\\npart d  (3)',\n",
       " '',\n",
       " 'Rubrics: \\nGradient w,r,t W (3)\\nGradient w.r.t b  (2)',\n",
       " '',\n",
       " 'This question has been excluded from marking.\\nQuestion-5 contains derivation of backpropagation. ',\n",
       " 0,\n",
       " 'Rubrics: \\nImplementation of Forward (0/5)\\nDerivation of Backprop (0/5)\\nImplementation of Backward (0/10)\\nL2 Norm of Error (0/5)\\nHomework was not submitted.',\n",
       " 0]"
      ]
     },
     "execution_count": 20,
     "metadata": {},
     "output_type": "execute_result"
    }
   ],
   "source": [
    "# row of 1st student\n",
    "record = records[0]\n",
    "record"
   ]
  },
  {
   "cell_type": "code",
   "execution_count": 23,
   "metadata": {},
   "outputs": [
    {
     "data": {
      "text/plain": [
       "'<tr><td> 1</td><td>Saja</td><td>MSCS</td><td>18001</td><td>some_email@domain.com</td><td>0</td><td>Obtained Marks</td><td></td><td></td><td></td><td>Rubrics: \\nPart. a (2)\\nPart. b (3)\\npart. c (2)\\npart d  (3)</td><td></td><td>Rubrics: \\nGradient w,r,t W (3)\\nGradient w.r.t b  (2)</td><td></td><td>This question has been excluded from marking.\\nQuestion-5 contains derivation of backpropagation. </td><td>0</td><td>Rubrics: \\nImplementation of Forward (0/5)\\nDerivation of Backprop (0/5)\\nImplementation of Backward (0/10)\\nL2 Norm of Error (0/5)\\nHomework was not submitted.</td><td>0</td></tr>'"
      ]
     },
     "execution_count": 23,
     "metadata": {},
     "output_type": "execute_result"
    }
   ],
   "source": [
    "def format_cell(x):\n",
    "    \n",
    "    if isinstance(x, float):\n",
    "        return '%0.1f' % x\n",
    "\n",
    "    \n",
    "    return str(x)\n",
    "\n",
    "\n",
    "\n",
    "table_body = '<tr><td> %s</td></tr>' % ( '</td><td>'.join(map(format_cell, record)) )\n",
    "\n",
    "table_body"
   ]
  },
  {
   "cell_type": "code",
   "execution_count": 24,
   "metadata": {},
   "outputs": [
    {
     "data": {
      "text/html": [
       "<tr><td> 1</td><td>Saja</td><td>MSCS</td><td>18001</td><td>some_email@domain.com</td><td>0</td><td>Obtained Marks</td><td></td><td></td><td></td><td>Rubrics: \n",
       "Part. a (2)\n",
       "Part. b (3)\n",
       "part. c (2)\n",
       "part d  (3)</td><td></td><td>Rubrics: \n",
       "Gradient w,r,t W (3)\n",
       "Gradient w.r.t b  (2)</td><td></td><td>This question has been excluded from marking.\n",
       "Question-5 contains derivation of backpropagation. </td><td>0</td><td>Rubrics: \n",
       "Implementation of Forward (0/5)\n",
       "Derivation of Backprop (0/5)\n",
       "Implementation of Backward (0/10)\n",
       "L2 Norm of Error (0/5)\n",
       "Homework was not submitted.</td><td>0</td></tr>"
      ],
      "text/plain": [
       "<IPython.core.display.HTML object>"
      ]
     },
     "metadata": {},
     "output_type": "display_data"
    }
   ],
   "source": [
    "display(HTML(table_body))"
   ]
  },
  {
   "cell_type": "code",
   "execution_count": 25,
   "metadata": {},
   "outputs": [
    {
     "data": {
      "text/plain": [
       "18"
      ]
     },
     "execution_count": 25,
     "metadata": {},
     "output_type": "execute_result"
    }
   ],
   "source": [
    "len(record)"
   ]
  },
  {
   "cell_type": "markdown",
   "metadata": {},
   "source": [
    "### Replace \"\\n\" with break in HTML"
   ]
  },
  {
   "cell_type": "code",
   "execution_count": 26,
   "metadata": {},
   "outputs": [],
   "source": [
    "table_body = \"<br />\".join(table_body.split(\"\\n\"))"
   ]
  },
  {
   "cell_type": "code",
   "execution_count": 27,
   "metadata": {},
   "outputs": [
    {
     "data": {
      "text/html": [
       "<tr><td> 1</td><td>Saja</td><td>MSCS</td><td>18001</td><td>some_email@domain.com</td><td>0</td><td>Obtained Marks</td><td></td><td></td><td></td><td>Rubrics: <br />Part. a (2)<br />Part. b (3)<br />part. c (2)<br />part d  (3)</td><td></td><td>Rubrics: <br />Gradient w,r,t W (3)<br />Gradient w.r.t b  (2)</td><td></td><td>This question has been excluded from marking.<br />Question-5 contains derivation of backpropagation. </td><td>0</td><td>Rubrics: <br />Implementation of Forward (0/5)<br />Derivation of Backprop (0/5)<br />Implementation of Backward (0/10)<br />L2 Norm of Error (0/5)<br />Homework was not submitted.</td><td>0</td></tr>"
      ],
      "text/plain": [
       "<IPython.core.display.HTML object>"
      ]
     },
     "metadata": {},
     "output_type": "display_data"
    }
   ],
   "source": [
    "display(HTML(table_body))"
   ]
  },
  {
   "cell_type": "markdown",
   "metadata": {},
   "source": [
    "### Example of Email Body"
   ]
  },
  {
   "cell_type": "code",
   "execution_count": 28,
   "metadata": {},
   "outputs": [
    {
     "data": {
      "text/plain": [
       "' \\n                  <p>Machine Learning (Spring-2021) Homework-1 Scores <br>  \\n                  If you have valid concerns related to grading, add private comment in Google Classroom Homework-1.<br>\\n                  If you have dropped ML course, reply to this email so that your record is removed from sheet.<br>\\n                  <br>\\n                  </p>\\n              <table border=\"1\"><tr><th colspan=\"5\">Homework-1</th><th rowspan=\"1\">Late \\n(Minutes)</th><th colspan=\"1\">Question</th><th colspan=\"1\">Q1</th><th rowspan=\"1\">Comments</th><th colspan=\"1\">Q2</th><th rowspan=\"1\">Comments</th><th colspan=\"1\">Q3</th><th rowspan=\"1\">Comments</th><th colspan=\"1\">Q4</th><th rowspan=\"1\">Comments</th><th colspan=\"1\">Q5</th><th rowspan=\"1\">Comments</th><th colspan=\"0\">HW-1</th></tr><tr><th colspan=\"1\">Sr. #</th><th colspan=\"1\">Name</th><th colspan=\"2\">Roll Number</th><th colspan=\"1\">Email</th><th colspan=\"1\"></th><th colspan=\"1\">Total Marks</th><th colspan=\"1\">10</th><th colspan=\"1\"></th><th colspan=\"1\">10</th><th colspan=\"1\"></th><th colspan=\"1\">5</th><th colspan=\"1\"></th><th colspan=\"1\">0</th><th colspan=\"1\"></th><th colspan=\"1\">25</th><th colspan=\"1\"></th><th colspan=\"1\">50</th></tr><tr><td> 1</td><td>Saja</td><td>MSCS</td><td>18001</td><td>some_email@domain.com</td><td>0</td><td>Obtained Marks</td><td></td><td></td><td></td><td>Rubrics: <br />Part. a (2)<br />Part. b (3)<br />part. c (2)<br />part d  (3)</td><td></td><td>Rubrics: <br />Gradient w,r,t W (3)<br />Gradient w.r.t b  (2)</td><td></td><td>This question has been excluded from marking.<br />Question-5 contains derivation of backpropagation. </td><td>0</td><td>Rubrics: <br />Implementation of Forward (0/5)<br />Derivation of Backprop (0/5)<br />Implementation of Backward (0/10)<br />L2 Norm of Error (0/5)<br />Homework was not submitted.</td><td>0</td></tr></table>'"
      ]
     },
     "execution_count": 28,
     "metadata": {},
     "output_type": "execute_result"
    }
   ],
   "source": [
    "email_text =  '''\n",
    "                  <p>Machine Learning (Spring-2021) Homework-1 Scores <br>  \n",
    "                  If you have valid concerns related to grading, add private comment in Google Classroom Homework-1.<br>\n",
    "                  If you have dropped ML course, reply to this email so that your record is removed from sheet.<br>\n",
    "                  <br>\n",
    "                  </p>\n",
    "              '''\n",
    "    \n",
    "\n",
    "email_body = f' {email_text}<table border=\"1\">{table_header}{table_body}</table>'\n",
    "email_body"
   ]
  },
  {
   "cell_type": "code",
   "execution_count": 29,
   "metadata": {},
   "outputs": [
    {
     "data": {
      "text/html": [
       " \n",
       "                  <p>Machine Learning (Spring-2021) Homework-1 Scores <br>  \n",
       "                  If you have valid concerns related to grading, add private comment in Google Classroom Homework-1.<br>\n",
       "                  If you have dropped ML course, reply to this email so that your record is removed from sheet.<br>\n",
       "                  <br>\n",
       "                  </p>\n",
       "              <table border=\"1\"><tr><th colspan=\"5\">Homework-1</th><th rowspan=\"1\">Late \n",
       "(Minutes)</th><th colspan=\"1\">Question</th><th colspan=\"1\">Q1</th><th rowspan=\"1\">Comments</th><th colspan=\"1\">Q2</th><th rowspan=\"1\">Comments</th><th colspan=\"1\">Q3</th><th rowspan=\"1\">Comments</th><th colspan=\"1\">Q4</th><th rowspan=\"1\">Comments</th><th colspan=\"1\">Q5</th><th rowspan=\"1\">Comments</th><th colspan=\"0\">HW-1</th></tr><tr><th colspan=\"1\">Sr. #</th><th colspan=\"1\">Name</th><th colspan=\"2\">Roll Number</th><th colspan=\"1\">Email</th><th colspan=\"1\"></th><th colspan=\"1\">Total Marks</th><th colspan=\"1\">10</th><th colspan=\"1\"></th><th colspan=\"1\">10</th><th colspan=\"1\"></th><th colspan=\"1\">5</th><th colspan=\"1\"></th><th colspan=\"1\">0</th><th colspan=\"1\"></th><th colspan=\"1\">25</th><th colspan=\"1\"></th><th colspan=\"1\">50</th></tr><tr><td> 1</td><td>Saja</td><td>MSCS</td><td>18001</td><td>some_email@domain.com</td><td>0</td><td>Obtained Marks</td><td></td><td></td><td></td><td>Rubrics: <br />Part. a (2)<br />Part. b (3)<br />part. c (2)<br />part d  (3)</td><td></td><td>Rubrics: <br />Gradient w,r,t W (3)<br />Gradient w.r.t b  (2)</td><td></td><td>This question has been excluded from marking.<br />Question-5 contains derivation of backpropagation. </td><td>0</td><td>Rubrics: <br />Implementation of Forward (0/5)<br />Derivation of Backprop (0/5)<br />Implementation of Backward (0/10)<br />L2 Norm of Error (0/5)<br />Homework was not submitted.</td><td>0</td></tr></table>"
      ],
      "text/plain": [
       "<IPython.core.display.HTML object>"
      ]
     },
     "metadata": {},
     "output_type": "display_data"
    }
   ],
   "source": [
    "display(HTML(email_body))"
   ]
  },
  {
   "cell_type": "markdown",
   "metadata": {},
   "source": [
    "### Log-in and Function to Send Automated Email"
   ]
  },
  {
   "cell_type": "code",
   "execution_count": null,
   "metadata": {},
   "outputs": [],
   "source": [
    "import smtplib\n",
    "  \n",
    "from email.mime.text import MIMEText\n",
    "\n",
    "gmail_user = 'firs_last@domain.com'              ## sender's email address\n",
    "gmail_password = 'kitty!*'                       ## sender's email password\n",
    "\n",
    "\n",
    "## Gmail user: if you experince error while logging-in, turn on less-secure option using link given below \n",
    "## https://myaccount.google.com/lesssecureapps"
   ]
  },
  {
   "cell_type": "code",
   "execution_count": null,
   "metadata": {},
   "outputs": [],
   "source": [
    "def send_email(record):       # record is a list containing data of one row in spreadsheet\n",
    "    \n",
    "    to = record[4].lower()    # record is a row and its [.] element contains student's email address\n",
    "    \n",
    "    #cc = 'some_email@domain.com'        # cc to a particular user like instructor\n",
    "    \n",
    "    subject = 'Machine Learning (Spring-2021) Final Exam Scores'  \n",
    "    \n",
    "    \n",
    "    email_message =  '''\n",
    "                      <p>Machine Learning (Spring-2021) Homework-1 Scores<br>\n",
    "                      <b>Do not reply to this email</b>.<br>\n",
    "                      If you have valid concerns related to grading, reply to the email that will be sent shortly.<br>\n",
    "                      Invalid and frivolous requests will result in 5% deduction of marks in the mentioned part/question.</br>\n",
    "                      <br>\n",
    "                      <br>\n",
    "                      </p>\n",
    "                  '''\n",
    " \n",
    "    email_body = f'{email_message}<table border=\"1\">{table_header}{table_body}</table>'\n",
    "\n",
    "    \n",
    "    email_text = MIMEText(email_body, 'html')\n",
    "    email_text['Subject'] = subject\n",
    "    email_text['Form'] = gmail_user\n",
    "    email_text['To'] = to\n",
    "    #email_text['cc'] = cc\n",
    "\n",
    "    server = smtplib.SMTP_SSL('smtp.gmail.com', 465)\n",
    "    server.ehlo()\n",
    "    server.login(gmail_user, gmail_password)\n",
    "    server.sendmail(gmail_user, to, email_text.as_string())\n",
    "    server.close()"
   ]
  },
  {
   "cell_type": "code",
   "execution_count": null,
   "metadata": {},
   "outputs": [],
   "source": []
  },
  {
   "cell_type": "code",
   "execution_count": 30,
   "metadata": {},
   "outputs": [
    {
     "data": {
      "text/plain": [
       "'some_email@domain.com'"
      ]
     },
     "execution_count": 30,
     "metadata": {},
     "output_type": "execute_result"
    }
   ],
   "source": [
    "# get email address of ith row in records\n",
    "\n",
    "i=0\n",
    "records[i][4]"
   ]
  },
  {
   "cell_type": "markdown",
   "metadata": {},
   "source": [
    "### Send Email to One Person"
   ]
  },
  {
   "cell_type": "code",
   "execution_count": 32,
   "metadata": {},
   "outputs": [
    {
     "name": "stdout",
     "output_type": "stream",
     "text": [
      "To Email: some_email@domain.com\n",
      "Send(Yes/No):No\n",
      "Not Sent.\n"
     ]
    }
   ],
   "source": [
    "index= 0    # select receiver\n",
    "\n",
    "print(\"To Email:\", records[index][4])\n",
    "\n",
    "\n",
    "send = input('Send(Yes/No):')\n",
    "\n",
    "if send=='Yes':\n",
    "    send_email(records[index])   # send email to a particular person\n",
    "    print(\"Done.\")\n",
    "elif send=='No':\n",
    "    print('Not Sent.')\n",
    "else:\n",
    "    print('\\nInput not recognized. Enter Yes or No')\n",
    "    print('Not Sent.')"
   ]
  },
  {
   "cell_type": "markdown",
   "metadata": {},
   "source": [
    "### Loop to Send Email Individually"
   ]
  },
  {
   "cell_type": "code",
   "execution_count": null,
   "metadata": {},
   "outputs": [],
   "source": [
    "send = input('Send Emails to All Students (Yes/No):')\n",
    "\n",
    "\n",
    "if send=='Yes':\n",
    "    print('Sending Emails to All Students...')\n",
    "    \n",
    "    for i, record in enumerate(records):\n",
    "        print('%03d ,  Email: %s'%(i+1,record[4].lower() ))  # print email addresses\n",
    "        send_email(record)\n",
    "\n",
    "    print(\"Done.\")\n",
    "    \n",
    "elif send=='No':\n",
    "    print('Not Sent.')\n",
    "else:\n",
    "    print('\\nInput not recognized. Enter Yes or No')\n",
    "    print('Not Sent.')\n"
   ]
  },
  {
   "cell_type": "code",
   "execution_count": null,
   "metadata": {},
   "outputs": [],
   "source": []
  }
 ],
 "metadata": {
  "kernelspec": {
   "display_name": "Python 3",
   "language": "python",
   "name": "python3"
  },
  "varInspector": {
   "cols": {
    "lenName": 16,
    "lenType": 16,
    "lenVar": 40
   },
   "kernels_config": {
    "python": {
     "delete_cmd_postfix": "",
     "delete_cmd_prefix": "del ",
     "library": "var_list.py",
     "varRefreshCmd": "print(var_dic_list())"
    },
    "r": {
     "delete_cmd_postfix": ") ",
     "delete_cmd_prefix": "rm(",
     "library": "var_list.r",
     "varRefreshCmd": "cat(var_dic_list()) "
    }
   },
   "types_to_exclude": [
    "module",
    "function",
    "builtin_function_or_method",
    "instance",
    "_Feature"
   ],
   "window_display": false
  }
 },
 "nbformat": 4,
 "nbformat_minor": 2
}
